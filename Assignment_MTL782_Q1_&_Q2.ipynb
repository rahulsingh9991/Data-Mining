{
 "cells": [
  {
   "cell_type": "markdown",
   "id": "e1840445",
   "metadata": {},
   "source": [
    "MTL 782 Assignment\n",
    "\n",
    "Submitted by: Mrinal Yadav (2019MT60997) & Rahul Singh (2019MT10285)\n",
    "\n",
    "Question 1"
   ]
  },
  {
   "cell_type": "markdown",
   "id": "bebdd8c0",
   "metadata": {},
   "source": [
    "*Characterising the DataSet*"
   ]
  },
  {
   "cell_type": "markdown",
   "id": "1809a1ed",
   "metadata": {},
   "source": [
    "*What the data is about?*"
   ]
  },
  {
   "cell_type": "markdown",
   "id": "8a1c842c",
   "metadata": {},
   "source": [
    "The iris dataset contains the following data\n",
    "\n",
    "50 samples of 3 different species of iris (150 samples total)\n",
    "\n",
    "Measurements: sepal length, sepal width, petal length, petal width\n",
    "\n",
    "The format for the data: (sepal length, sepal width, petal length, petal width)\n",
    "\n",
    "The variables are:\n",
    "\n",
    "sepal_length: Sepal length, in centimeters, used as input.\n",
    "\n",
    "sepal_width: Sepal width, in centimeters, used as input.\n",
    "\n",
    "petal_length: Petal length, in centimeters, used as input.\n",
    "\n",
    "petal_width: Petal width, in centimeters, used as input.\n",
    "\n",
    "class: Iris Setosa, Versicolor, or Virginica, used as the target."
   ]
  },
  {
   "cell_type": "markdown",
   "id": "dbad2363",
   "metadata": {},
   "source": [
    "*What type of benefit you might hope to get from data mining?*"
   ]
  },
  {
   "cell_type": "markdown",
   "id": "b446298f",
   "metadata": {},
   "source": [
    "1. It is helpful to predict future trends.\n",
    "2. It signifies customer habits.\n",
    "3. It helps in decision making.\n",
    "4. It identifies hidden profitability.\n",
    "5. It increases company revenue."
   ]
  },
  {
   "cell_type": "markdown",
   "id": "5854b502",
   "metadata": {},
   "source": [
    "*Data quality issues*: "
   ]
  },
  {
   "cell_type": "markdown",
   "id": "e76f1c4f",
   "metadata": {},
   "source": [
    "*Unstructured data*\n",
    "\n",
    "Many times, if data has not been entered correctly in the system, or some files may have been corrupted, the remaining data has many missing variables.\n",
    "\n",
    "*Duplicate data*\n",
    "\n",
    "Multiple copies of the same records take a toll on computing and storing, but may also produce skewed or incorrect insights when undetected. One of the critical problems could be human error — someone simply entering data multiple times by accident — or an algorithm that went wrong.\n",
    "\n",
    "*Inaccurate data*\n",
    "\n",
    "Inaccurate data is data in systems filled with human mistakes, like a type or wrong information provided by the customer or inputting details in the wrong field. \n"
   ]
  },
  {
   "cell_type": "markdown",
   "id": "fc414133",
   "metadata": {},
   "source": [
    "For each attribute,\n",
    "\n",
    "a) Are there problems with the data?"
   ]
  },
  {
   "cell_type": "markdown",
   "id": "1c118b72",
   "metadata": {},
   "source": [
    "No, there are no problem with the data since there are no missing values or duplicate data present in iris dataset and it is accurate data taken from a reliable source(link given in the assignment).Although there are some outliers present in sepalwidth attribute."
   ]
  },
  {
   "cell_type": "markdown",
   "id": "8e1c3a33",
   "metadata": {},
   "source": [
    "b) What might be an appropriate response to the quality issues."
   ]
  },
  {
   "cell_type": "markdown",
   "id": "3209b27e",
   "metadata": {},
   "source": [
    "To overcome data quality issue,we do the following:\n",
    "\n",
    "For *Unstructured Data*:\n",
    "\n",
    "Data integration tool help in converting unstructured data to structured data. And also, move data from various formats into one consistent form.\n",
    "\n",
    "For *Duplicate Data*:\n",
    "\n",
    "Data deduplication is a combination of human intuition, data analysis, and algorithms to detect possible duplicates based on chance scores and common sense to determine where records look like a near match.\n",
    "\n",
    "For *Inaccurate Data*:\n",
    "\n",
    "Automation tools to reduce the amount of manual work when moving data between systems is useful in reducing the risk of mistakes by tired or bored workers."
   ]
  },
  {
   "cell_type": "markdown",
   "id": "f8d4d103",
   "metadata": {},
   "source": [
    "Importing Libraries"
   ]
  },
  {
   "cell_type": "code",
   "execution_count": 1,
   "id": "028438d8",
   "metadata": {},
   "outputs": [],
   "source": [
    "import numpy as np \n",
    "import pandas as pd \n",
    "import matplotlib.pyplot as plt\n",
    "import seaborn as sns"
   ]
  },
  {
   "cell_type": "markdown",
   "id": "5e2f5e8c",
   "metadata": {},
   "source": [
    "Importing Iris Data Set"
   ]
  },
  {
   "cell_type": "code",
   "execution_count": 2,
   "id": "4a021c00",
   "metadata": {},
   "outputs": [],
   "source": [
    "url=\"https://archive.ics.uci.edu/ml/machine-learning-databases/iris/iris.data\"\n",
    "colnames=['sepallength','sepalwidth','petallength','petalwidth','class']\n",
    "df = pd.read_csv(url,encoding = 'utf8',names=colnames, header=None)"
   ]
  },
  {
   "cell_type": "markdown",
   "id": "90242f66",
   "metadata": {},
   "source": [
    "*Displaying Data*"
   ]
  },
  {
   "cell_type": "code",
   "execution_count": 3,
   "id": "77287bca",
   "metadata": {},
   "outputs": [
    {
     "data": {
      "text/html": [
       "<div>\n",
       "<style scoped>\n",
       "    .dataframe tbody tr th:only-of-type {\n",
       "        vertical-align: middle;\n",
       "    }\n",
       "\n",
       "    .dataframe tbody tr th {\n",
       "        vertical-align: top;\n",
       "    }\n",
       "\n",
       "    .dataframe thead th {\n",
       "        text-align: right;\n",
       "    }\n",
       "</style>\n",
       "<table border=\"1\" class=\"dataframe\">\n",
       "  <thead>\n",
       "    <tr style=\"text-align: right;\">\n",
       "      <th></th>\n",
       "      <th>sepallength</th>\n",
       "      <th>sepalwidth</th>\n",
       "      <th>petallength</th>\n",
       "      <th>petalwidth</th>\n",
       "      <th>class</th>\n",
       "    </tr>\n",
       "  </thead>\n",
       "  <tbody>\n",
       "    <tr>\n",
       "      <th>0</th>\n",
       "      <td>5.1</td>\n",
       "      <td>3.5</td>\n",
       "      <td>1.4</td>\n",
       "      <td>0.2</td>\n",
       "      <td>Iris-setosa</td>\n",
       "    </tr>\n",
       "    <tr>\n",
       "      <th>1</th>\n",
       "      <td>4.9</td>\n",
       "      <td>3.0</td>\n",
       "      <td>1.4</td>\n",
       "      <td>0.2</td>\n",
       "      <td>Iris-setosa</td>\n",
       "    </tr>\n",
       "    <tr>\n",
       "      <th>2</th>\n",
       "      <td>4.7</td>\n",
       "      <td>3.2</td>\n",
       "      <td>1.3</td>\n",
       "      <td>0.2</td>\n",
       "      <td>Iris-setosa</td>\n",
       "    </tr>\n",
       "    <tr>\n",
       "      <th>3</th>\n",
       "      <td>4.6</td>\n",
       "      <td>3.1</td>\n",
       "      <td>1.5</td>\n",
       "      <td>0.2</td>\n",
       "      <td>Iris-setosa</td>\n",
       "    </tr>\n",
       "    <tr>\n",
       "      <th>4</th>\n",
       "      <td>5.0</td>\n",
       "      <td>3.6</td>\n",
       "      <td>1.4</td>\n",
       "      <td>0.2</td>\n",
       "      <td>Iris-setosa</td>\n",
       "    </tr>\n",
       "  </tbody>\n",
       "</table>\n",
       "</div>"
      ],
      "text/plain": [
       "   sepallength  sepalwidth  petallength  petalwidth        class\n",
       "0          5.1         3.5          1.4         0.2  Iris-setosa\n",
       "1          4.9         3.0          1.4         0.2  Iris-setosa\n",
       "2          4.7         3.2          1.3         0.2  Iris-setosa\n",
       "3          4.6         3.1          1.5         0.2  Iris-setosa\n",
       "4          5.0         3.6          1.4         0.2  Iris-setosa"
      ]
     },
     "execution_count": 3,
     "metadata": {},
     "output_type": "execute_result"
    }
   ],
   "source": [
    "df.head()"
   ]
  },
  {
   "cell_type": "code",
   "execution_count": 4,
   "id": "081fa805",
   "metadata": {},
   "outputs": [
    {
     "data": {
      "text/plain": [
       "array(['Iris-setosa', 'Iris-versicolor', 'Iris-virginica'], dtype=object)"
      ]
     },
     "execution_count": 4,
     "metadata": {},
     "output_type": "execute_result"
    }
   ],
   "source": [
    "df['class'].unique()"
   ]
  },
  {
   "cell_type": "code",
   "execution_count": 5,
   "id": "3a1da4b6",
   "metadata": {},
   "outputs": [
    {
     "data": {
      "text/html": [
       "<div>\n",
       "<style scoped>\n",
       "    .dataframe tbody tr th:only-of-type {\n",
       "        vertical-align: middle;\n",
       "    }\n",
       "\n",
       "    .dataframe tbody tr th {\n",
       "        vertical-align: top;\n",
       "    }\n",
       "\n",
       "    .dataframe thead th {\n",
       "        text-align: right;\n",
       "    }\n",
       "</style>\n",
       "<table border=\"1\" class=\"dataframe\">\n",
       "  <thead>\n",
       "    <tr style=\"text-align: right;\">\n",
       "      <th></th>\n",
       "      <th>sepallength</th>\n",
       "      <th>sepalwidth</th>\n",
       "      <th>petallength</th>\n",
       "      <th>petalwidth</th>\n",
       "      <th>class</th>\n",
       "    </tr>\n",
       "  </thead>\n",
       "  <tbody>\n",
       "    <tr>\n",
       "      <th>count</th>\n",
       "      <td>150.000000</td>\n",
       "      <td>150.000000</td>\n",
       "      <td>150.000000</td>\n",
       "      <td>150.000000</td>\n",
       "      <td>150</td>\n",
       "    </tr>\n",
       "    <tr>\n",
       "      <th>unique</th>\n",
       "      <td>NaN</td>\n",
       "      <td>NaN</td>\n",
       "      <td>NaN</td>\n",
       "      <td>NaN</td>\n",
       "      <td>3</td>\n",
       "    </tr>\n",
       "    <tr>\n",
       "      <th>top</th>\n",
       "      <td>NaN</td>\n",
       "      <td>NaN</td>\n",
       "      <td>NaN</td>\n",
       "      <td>NaN</td>\n",
       "      <td>Iris-virginica</td>\n",
       "    </tr>\n",
       "    <tr>\n",
       "      <th>freq</th>\n",
       "      <td>NaN</td>\n",
       "      <td>NaN</td>\n",
       "      <td>NaN</td>\n",
       "      <td>NaN</td>\n",
       "      <td>50</td>\n",
       "    </tr>\n",
       "    <tr>\n",
       "      <th>mean</th>\n",
       "      <td>5.843333</td>\n",
       "      <td>3.054000</td>\n",
       "      <td>3.758667</td>\n",
       "      <td>1.198667</td>\n",
       "      <td>NaN</td>\n",
       "    </tr>\n",
       "    <tr>\n",
       "      <th>std</th>\n",
       "      <td>0.828066</td>\n",
       "      <td>0.433594</td>\n",
       "      <td>1.764420</td>\n",
       "      <td>0.763161</td>\n",
       "      <td>NaN</td>\n",
       "    </tr>\n",
       "    <tr>\n",
       "      <th>min</th>\n",
       "      <td>4.300000</td>\n",
       "      <td>2.000000</td>\n",
       "      <td>1.000000</td>\n",
       "      <td>0.100000</td>\n",
       "      <td>NaN</td>\n",
       "    </tr>\n",
       "    <tr>\n",
       "      <th>25%</th>\n",
       "      <td>5.100000</td>\n",
       "      <td>2.800000</td>\n",
       "      <td>1.600000</td>\n",
       "      <td>0.300000</td>\n",
       "      <td>NaN</td>\n",
       "    </tr>\n",
       "    <tr>\n",
       "      <th>50%</th>\n",
       "      <td>5.800000</td>\n",
       "      <td>3.000000</td>\n",
       "      <td>4.350000</td>\n",
       "      <td>1.300000</td>\n",
       "      <td>NaN</td>\n",
       "    </tr>\n",
       "    <tr>\n",
       "      <th>75%</th>\n",
       "      <td>6.400000</td>\n",
       "      <td>3.300000</td>\n",
       "      <td>5.100000</td>\n",
       "      <td>1.800000</td>\n",
       "      <td>NaN</td>\n",
       "    </tr>\n",
       "    <tr>\n",
       "      <th>max</th>\n",
       "      <td>7.900000</td>\n",
       "      <td>4.400000</td>\n",
       "      <td>6.900000</td>\n",
       "      <td>2.500000</td>\n",
       "      <td>NaN</td>\n",
       "    </tr>\n",
       "  </tbody>\n",
       "</table>\n",
       "</div>"
      ],
      "text/plain": [
       "        sepallength  sepalwidth  petallength  petalwidth           class\n",
       "count    150.000000  150.000000   150.000000  150.000000             150\n",
       "unique          NaN         NaN          NaN         NaN               3\n",
       "top             NaN         NaN          NaN         NaN  Iris-virginica\n",
       "freq            NaN         NaN          NaN         NaN              50\n",
       "mean       5.843333    3.054000     3.758667    1.198667             NaN\n",
       "std        0.828066    0.433594     1.764420    0.763161             NaN\n",
       "min        4.300000    2.000000     1.000000    0.100000             NaN\n",
       "25%        5.100000    2.800000     1.600000    0.300000             NaN\n",
       "50%        5.800000    3.000000     4.350000    1.300000             NaN\n",
       "75%        6.400000    3.300000     5.100000    1.800000             NaN\n",
       "max        7.900000    4.400000     6.900000    2.500000             NaN"
      ]
     },
     "execution_count": 5,
     "metadata": {},
     "output_type": "execute_result"
    }
   ],
   "source": [
    "df.describe(include='all')"
   ]
  },
  {
   "cell_type": "code",
   "execution_count": 6,
   "id": "043edce6",
   "metadata": {},
   "outputs": [
    {
     "name": "stdout",
     "output_type": "stream",
     "text": [
      "<class 'pandas.core.frame.DataFrame'>\n",
      "RangeIndex: 150 entries, 0 to 149\n",
      "Data columns (total 5 columns):\n",
      " #   Column       Non-Null Count  Dtype  \n",
      "---  ------       --------------  -----  \n",
      " 0   sepallength  150 non-null    float64\n",
      " 1   sepalwidth   150 non-null    float64\n",
      " 2   petallength  150 non-null    float64\n",
      " 3   petalwidth   150 non-null    float64\n",
      " 4   class        150 non-null    object \n",
      "dtypes: float64(4), object(1)\n",
      "memory usage: 5.3+ KB\n"
     ]
    }
   ],
   "source": [
    "df.info()"
   ]
  },
  {
   "cell_type": "markdown",
   "id": "e7b5f61b",
   "metadata": {},
   "source": [
    "*Checking if there are any missing values*"
   ]
  },
  {
   "cell_type": "code",
   "execution_count": 7,
   "id": "7a702647",
   "metadata": {},
   "outputs": [
    {
     "data": {
      "text/plain": [
       "sepallength    0\n",
       "sepalwidth     0\n",
       "petallength    0\n",
       "petalwidth     0\n",
       "class          0\n",
       "dtype: int64"
      ]
     },
     "execution_count": 7,
     "metadata": {},
     "output_type": "execute_result"
    }
   ],
   "source": [
    "df.isnull().sum()"
   ]
  },
  {
   "cell_type": "markdown",
   "id": "dda6f079",
   "metadata": {},
   "source": [
    "There are no missing value present in this dataset"
   ]
  },
  {
   "cell_type": "markdown",
   "id": "3e653e2e",
   "metadata": {},
   "source": [
    "Checking for Outliers"
   ]
  },
  {
   "cell_type": "code",
   "execution_count": 8,
   "id": "bc88623c",
   "metadata": {},
   "outputs": [
    {
     "name": "stdout",
     "output_type": "stream",
     "text": [
      "There are no outliers in sepallength attribute\n",
      "Outliers are present in sepalwidth attribute\n",
      "Number of outliers are: 4\n",
      "There are no outliers in petallength attribute\n",
      "There are no outliers in petalwidth attribute\n"
     ]
    }
   ],
   "source": [
    "def count_outliers(info,column):\n",
    "        A1 = info[column].quantile(0.25,interpolation='nearest')\n",
    "        A2 = info[column].quantile(0.5,interpolation='nearest')\n",
    "        A3 = info[column].quantile(0.75,interpolation='nearest')\n",
    "        A4 = info[column].quantile(1,interpolation='nearest')\n",
    "        z = A3 -A1\n",
    "        global m,n,d\n",
    "        d=[]\n",
    "        m = A1-1.5*z\n",
    "        n = A3+1.5*z\n",
    "        if info[column].min()>m and info[column].max()<n:\n",
    "            print(\"There are no outliers in \"+i+\" attribute\")\n",
    "        else:\n",
    "            print(\"Outliers are present in \"+i+\" attribute\")\n",
    "            \n",
    "            p = info[info[column] < m][column].size\n",
    "            \n",
    "            q = info[info[column] > n][column].size\n",
    "            \n",
    "            d.append(i)\n",
    "            \n",
    "            print(\"Number of outliers are:\",p+q)\n",
    "for i in df.columns[:-1]:\n",
    "    count_outliers(df,i)"
   ]
  },
  {
   "cell_type": "markdown",
   "id": "6d46cbd8",
   "metadata": {},
   "source": [
    "*Data Visualisation*"
   ]
  },
  {
   "cell_type": "markdown",
   "id": "44221d52",
   "metadata": {},
   "source": [
    "ScatterPlot"
   ]
  },
  {
   "cell_type": "code",
   "execution_count": 9,
   "id": "aa4a4088",
   "metadata": {},
   "outputs": [
    {
     "data": {
      "image/png": "[encoded data removed]",
      "text/plain": [
       "<Figure size 864x288 with 1 Axes>"
      ]
     },
     "metadata": {
      "needs_background": "light"
     },
     "output_type": "display_data"
    }
   ],
   "source": [
    "graph=sns.relplot(x='sepallength',y='sepalwidth',data=df,hue='class',style='class')\n",
    "graph.fig.set_size_inches(12,4)\n",
    "plt.show()"
   ]
  },
  {
   "cell_type": "code",
   "execution_count": 10,
   "id": "04143004",
   "metadata": {
    "scrolled": true
   },
   "outputs": [
    {
     "data": {
      "image/png": "[encoded data removed]",
      "text/plain": [
       "<Figure size 864x288 with 1 Axes>"
      ]
     },
     "metadata": {
      "needs_background": "light"
     },
     "output_type": "display_data"
    }
   ],
   "source": [
    "graph=sns.relplot(x='petallength',y='petalwidth',data=df,hue='class',style='class')\n",
    "graph.fig.set_size_inches(12,4)\n",
    "plt.show()"
   ]
  },
  {
   "cell_type": "markdown",
   "id": "c8056c9c",
   "metadata": {},
   "source": [
    "Observation:\n",
    "\n",
    "We can see that the Petal Features are giving a better cluster division compared to the Sepal features. This is an indication that the Petals can help in better and accurate Predictions over the Sepal."
   ]
  },
  {
   "cell_type": "markdown",
   "id": "d9567ee9",
   "metadata": {},
   "source": [
    "*Correlation*"
   ]
  },
  {
   "cell_type": "code",
   "execution_count": 11,
   "id": "40d5913f",
   "metadata": {},
   "outputs": [
    {
     "data": {
      "text/html": [
       "<div>\n",
       "<style scoped>\n",
       "    .dataframe tbody tr th:only-of-type {\n",
       "        vertical-align: middle;\n",
       "    }\n",
       "\n",
       "    .dataframe tbody tr th {\n",
       "        vertical-align: top;\n",
       "    }\n",
       "\n",
       "    .dataframe thead th {\n",
       "        text-align: right;\n",
       "    }\n",
       "</style>\n",
       "<table border=\"1\" class=\"dataframe\">\n",
       "  <thead>\n",
       "    <tr style=\"text-align: right;\">\n",
       "      <th></th>\n",
       "      <th>sepallength</th>\n",
       "      <th>sepalwidth</th>\n",
       "      <th>petallength</th>\n",
       "      <th>petalwidth</th>\n",
       "    </tr>\n",
       "  </thead>\n",
       "  <tbody>\n",
       "    <tr>\n",
       "      <th>sepallength</th>\n",
       "      <td>1.000000</td>\n",
       "      <td>-0.109369</td>\n",
       "      <td>0.871754</td>\n",
       "      <td>0.817954</td>\n",
       "    </tr>\n",
       "    <tr>\n",
       "      <th>sepalwidth</th>\n",
       "      <td>-0.109369</td>\n",
       "      <td>1.000000</td>\n",
       "      <td>-0.420516</td>\n",
       "      <td>-0.356544</td>\n",
       "    </tr>\n",
       "    <tr>\n",
       "      <th>petallength</th>\n",
       "      <td>0.871754</td>\n",
       "      <td>-0.420516</td>\n",
       "      <td>1.000000</td>\n",
       "      <td>0.962757</td>\n",
       "    </tr>\n",
       "    <tr>\n",
       "      <th>petalwidth</th>\n",
       "      <td>0.817954</td>\n",
       "      <td>-0.356544</td>\n",
       "      <td>0.962757</td>\n",
       "      <td>1.000000</td>\n",
       "    </tr>\n",
       "  </tbody>\n",
       "</table>\n",
       "</div>"
      ],
      "text/plain": [
       "             sepallength  sepalwidth  petallength  petalwidth\n",
       "sepallength     1.000000   -0.109369     0.871754    0.817954\n",
       "sepalwidth     -0.109369    1.000000    -0.420516   -0.356544\n",
       "petallength     0.871754   -0.420516     1.000000    0.962757\n",
       "petalwidth      0.817954   -0.356544     0.962757    1.000000"
      ]
     },
     "execution_count": 11,
     "metadata": {},
     "output_type": "execute_result"
    }
   ],
   "source": [
    "df.corr()"
   ]
  },
  {
   "cell_type": "code",
   "execution_count": 12,
   "id": "22fccf6e",
   "metadata": {},
   "outputs": [
    {
     "data": {
      "image/png": "[encoded data removed]",
      "text/plain": [
       "<Figure size 576x576 with 2 Axes>"
      ]
     },
     "metadata": {
      "needs_background": "light"
     },
     "output_type": "display_data"
    }
   ],
   "source": [
    "plt.subplots(figsize = (8,8))\n",
    "sns.heatmap(df.corr(),annot=True,fmt=\"f\").set_title(\"Corelation of attributes\")\n",
    "plt.show()"
   ]
  },
  {
   "cell_type": "markdown",
   "id": "e2a84df0",
   "metadata": {},
   "source": [
    "Observation:\n",
    "\n",
    "The Sepal Width and Length are not correlated. The Petal Width and Length are highly correlated."
   ]
  },
  {
   "cell_type": "markdown",
   "id": "bb53e8b0",
   "metadata": {},
   "source": [
    "*Implementing Decision Tree, Random Forest, KNN,Naive Bayes Classifier for multi-class Dataset(Iris Dataset)*"
   ]
  },
  {
   "cell_type": "markdown",
   "id": "d7c7582c",
   "metadata": {},
   "source": [
    "*Dividing data into features and labels*\n"
   ]
  },
  {
   "cell_type": "code",
   "execution_count": 13,
   "id": "386b6774",
   "metadata": {},
   "outputs": [],
   "source": [
    "y=df.iloc[:,4].values\n",
    "X=df.iloc[:,0:4].values"
   ]
  },
  {
   "cell_type": "markdown",
   "id": "1ff162e2",
   "metadata": {},
   "source": [
    "*Label Encoding*\n",
    "\n",
    "Class label attribute is categorical. KNeighborsClassifier does not accept string labels. We need to use LabelEncoder to transform them into numbers.\n",
    "\n",
    "Iris-setosa correspond to 0, Iris-versicolor correspond to 1 and Iris-virginica correspond to 2."
   ]
  },
  {
   "cell_type": "code",
   "execution_count": 14,
   "id": "3fb932e9",
   "metadata": {},
   "outputs": [],
   "source": [
    "from sklearn.preprocessing import LabelEncoder\n",
    "LE = LabelEncoder()\n",
    "y = LE.fit_transform(y)"
   ]
  },
  {
   "cell_type": "markdown",
   "id": "0ce38529",
   "metadata": {},
   "source": [
    "*Building Machine Learning Models*"
   ]
  },
  {
   "cell_type": "code",
   "execution_count": 15,
   "id": "049b52f5",
   "metadata": {},
   "outputs": [],
   "source": [
    "#Evaluation Metrics\n",
    "from sklearn.metrics import accuracy_score ,precision_score,recall_score,f1_score,confusion_matrix,classification_report\n",
    "\n",
    "#Model Select\n",
    "from sklearn.model_selection import train_test_split,GridSearchCV\n",
    "from sklearn.model_selection import KFold,train_test_split,cross_val_score\n",
    "from sklearn.ensemble import RandomForestClassifier\n",
    "from sklearn.tree import DecisionTreeClassifier\n",
    "from sklearn.naive_bayes import GaussianNB\n",
    "from sklearn.neighbors import KNeighborsClassifier\n",
    "from sklearn import preprocessing,metrics\n",
    "from sklearn.pipeline import make_pipeline"
   ]
  },
  {
   "cell_type": "markdown",
   "id": "bd1129c1",
   "metadata": {},
   "source": [
    "*Splitting The Data into Training And Testing Dataset*"
   ]
  },
  {
   "cell_type": "code",
   "execution_count": 16,
   "id": "b3269623",
   "metadata": {},
   "outputs": [],
   "source": [
    "#Train and Test split\n",
    "X_train,X_test,y_train,y_test=train_test_split(X,y,random_state=0,test_size=0.2)"
   ]
  },
  {
   "cell_type": "markdown",
   "id": "8686bcfd",
   "metadata": {},
   "source": [
    "*Implementing Decision Tree*"
   ]
  },
  {
   "cell_type": "markdown",
   "id": "cc03e3ed",
   "metadata": {},
   "source": [
    "Hyperparameter Tuning(criterion ,min_sample_split_range, max_depth_range ,in_samples_leaf_range,min_leaf_nodes_range) in Decision Tree"
   ]
  },
  {
   "cell_type": "code",
   "execution_count": 17,
   "id": "42bc75d8",
   "metadata": {
    "scrolled": true
   },
   "outputs": [
    {
     "name": "stdout",
     "output_type": "stream",
     "text": [
      "Tuned model Accuracy:  0.95\n",
      "{'criterion': 'gini', 'max_depth': None, 'max_leaf_nodes': None, 'min_samples_leaf': 2, 'min_samples_split': 10}\n"
     ]
    }
   ],
   "source": [
    "criterion = [\"gini\", \"entropy\"]      \n",
    "min_samples_leaf_range = [1,2,3] \n",
    "max_leaf_nodes_range = [None, 5, 10, 20]\n",
    "min_sample_split_range = [2,5,10] \n",
    "max_depth_range = [None, 2, 5]  \n",
    "par_grid = {\"criterion\": criterion,\n",
    "              \"min_samples_split\": min_sample_split_range,\n",
    "              \"max_depth\": max_depth_range,\n",
    "              \"min_samples_leaf\": min_samples_leaf_range,\n",
    "              \"max_leaf_nodes\": max_leaf_nodes_range\n",
    "                }\n",
    "dt=DecisionTreeClassifier()\n",
    "grid = GridSearchCV(estimator=dt,param_grid=par_grid,cv = 5,scoring='accuracy',refit=True)     \n",
    "\n",
    "t_model = make_pipeline(preprocessing.StandardScaler(), grid)    \n",
    "t_model.fit(X_train, y_train)      \n",
    "\n",
    "print(\"Tuned model Accuracy: \", grid.best_score_)\n",
    "print(grid.best_params_)"
   ]
  },
  {
   "cell_type": "code",
   "execution_count": 18,
   "id": "c5b769e2",
   "metadata": {},
   "outputs": [],
   "source": [
    "model_dt = DecisionTreeClassifier(criterion= 'gini', max_depth=None, max_leaf_nodes= 20, min_samples_leaf= 3, min_samples_split= 5) \n",
    "model_dt.fit(X_train, y_train)  \n",
    "Y_pred = model_dt.predict(X_test) \n",
    "dt_acc=round(accuracy_score(y_test,Y_pred)* 100, 2)\n",
    "dt_acc_score = round(model_dt.score(X_train, y_train) * 100, 2)"
   ]
  },
  {
   "cell_type": "code",
   "execution_count": 19,
   "id": "2ddc5303",
   "metadata": {
    "scrolled": true
   },
   "outputs": [
    {
     "data": {
      "image/png": "[encoded data removed]",
      "text/plain": [
       "<Figure size 1152x432 with 1 Axes>"
      ]
     },
     "metadata": {
      "needs_background": "light"
     },
     "output_type": "display_data"
    }
   ],
   "source": [
    "from sklearn.tree import plot_tree\n",
    "plt.figure(figsize = (16,6))\n",
    "plot_tree(model_dt.fit(X_train, y_train)  ,filled=True)\n",
    "plt.show()"
   ]
  },
  {
   "cell_type": "markdown",
   "id": "41996d72",
   "metadata": {},
   "source": [
    "Comparing the performances of Decision Tree Classifier using k-fold cross validation\n",
    "and other tuning techniques."
   ]
  },
  {
   "cell_type": "code",
   "execution_count": 20,
   "id": "8ff2a267",
   "metadata": {
    "scrolled": true
   },
   "outputs": [
    {
     "name": "stdout",
     "output_type": "stream",
     "text": [
      "Kfolds_Decision Tree :  0.9600000000000002\n",
      "for Decision Tree, Confusion matrix\n",
      " [[11  0  0]\n",
      " [ 0 13  0]\n",
      " [ 0  0  6]]\n",
      "for Decision Tree, Classification Report\n",
      "               precision    recall  f1-score   support\n",
      "\n",
      "           0       1.00      1.00      1.00        11\n",
      "           1       1.00      1.00      1.00        13\n",
      "           2       1.00      1.00      1.00         6\n",
      "\n",
      "    accuracy                           1.00        30\n",
      "   macro avg       1.00      1.00      1.00        30\n",
      "weighted avg       1.00      1.00      1.00        30\n",
      "\n",
      "Heatmap:\n"
     ]
    },
    {
     "data": {
      "image/png": "[encoded data removed]",
      "text/plain": [
       "<Figure size 432x288 with 2 Axes>"
      ]
     },
     "metadata": {
      "needs_background": "light"
     },
     "output_type": "display_data"
    }
   ],
   "source": [
    "kfolds = KFold(n_splits=10, random_state=7,shuffle=True)\n",
    "score = cross_val_score(model_dt, X, y, cv=kfolds)\n",
    "print('Kfolds_Decision Tree : ',score.mean())\n",
    "confusion = confusion_matrix(y_test, Y_pred)\n",
    "sns.heatmap(confusion,annot=True)\n",
    "print('for Decision Tree, Confusion matrix\\n',confusion)\n",
    "classify=classification_report(y_test, Y_pred)\n",
    "print('for Decision Tree, Classification Report\\n',classify)\n",
    "print(\"Heatmap:\")"
   ]
  },
  {
   "cell_type": "markdown",
   "id": "39c07755",
   "metadata": {},
   "source": [
    "*Implementing Random Forest*"
   ]
  },
  {
   "cell_type": "markdown",
   "id": "e879c9ee",
   "metadata": {},
   "source": [
    "Hyperparameter Tuning(n_estimators,criterion,min_sample_split_range,min_samples_leaf_range,max_leaf_nodes_range) in Random Forest"
   ]
  },
  {
   "cell_type": "code",
   "execution_count": 21,
   "id": "4917eac7",
   "metadata": {},
   "outputs": [
    {
     "name": "stdout",
     "output_type": "stream",
     "text": [
      "Accuracy of the tuned model:  0.9583333333333334\n",
      "{'criterion': 'gini', 'max_leaf_nodes': 10, 'min_samples_leaf': 1, 'min_samples_split': 2, 'n_estimators': 10}\n"
     ]
    }
   ],
   "source": [
    "criteria = [\"gini\", \"entropy\"]      \n",
    "min_sample_split_range = [2,3] \n",
    "min_samples_leaf_range = [1,2,3] \n",
    "n_estimators = [10]\n",
    "max_leaf_nodes_range = [None, 5,10]    \n",
    "param_grid = {\n",
    "              \"n_estimators\":n_estimators,\n",
    "              \"criterion\": criteria,\n",
    "              \"min_samples_split\": min_sample_split_range,\n",
    "              \"min_samples_leaf\": min_samples_leaf_range,\n",
    "              \"max_leaf_nodes\": max_leaf_nodes_range                \n",
    "                    }\n",
    "rf = RandomForestClassifier(n_estimators=n_estimators,criterion= criteria, max_leaf_nodes= max_leaf_nodes_range, min_samples_leaf= min_samples_leaf_range, min_samples_split= min_sample_split_range)\n",
    "grid = GridSearchCV(estimator=rf, \n",
    "                    param_grid=param_grid, \n",
    "                    cv = 5, \n",
    "                    scoring='accuracy', \n",
    "                    refit=True)    \n",
    "t_model = make_pipeline(preprocessing.StandardScaler(), grid)    \n",
    "t_model.fit(X_train, y_train)      \n",
    "\n",
    "print(\"Accuracy of the tuned model: \", grid.best_score_)\n",
    "print(grid.best_params_)"
   ]
  },
  {
   "cell_type": "code",
   "execution_count": 22,
   "id": "4961636a",
   "metadata": {},
   "outputs": [],
   "source": [
    "rf = RandomForestClassifier(n_estimators=10,criterion= 'gini', max_depth=None, max_leaf_nodes= None, min_samples_leaf= 1, min_samples_split= 2)\n",
    "rf.fit(X_train, y_train)\n",
    "Y_prediction = rf.predict(X_test)\n",
    "rf_acc=round(accuracy_score(y_test,Y_prediction)* 100, 2)\n",
    "random_forest_acc_score = round(rf.score(X_train, y_train) * 100, 2)"
   ]
  },
  {
   "cell_type": "markdown",
   "id": "b47edc48",
   "metadata": {},
   "source": [
    "Comparing the performances of Random Forest Classifier using k-fold cross validation\n",
    "and other tuning techniques."
   ]
  },
  {
   "cell_type": "code",
   "execution_count": 23,
   "id": "1f17e54d",
   "metadata": {
    "scrolled": true
   },
   "outputs": [
    {
     "name": "stdout",
     "output_type": "stream",
     "text": [
      "Kfolds_Random Forest :  0.9533333333333334\n",
      "for Random Forest, Confusion matrix\n",
      " [[11  0  0]\n",
      " [ 0 13  0]\n",
      " [ 0  0  6]]\n",
      "for Random Forest, Classification Report\n",
      "               precision    recall  f1-score   support\n",
      "\n",
      "           0       1.00      1.00      1.00        11\n",
      "           1       1.00      1.00      1.00        13\n",
      "           2       1.00      1.00      1.00         6\n",
      "\n",
      "    accuracy                           1.00        30\n",
      "   macro avg       1.00      1.00      1.00        30\n",
      "weighted avg       1.00      1.00      1.00        30\n",
      "\n",
      "Heatmap\n"
     ]
    },
    {
     "data": {
      "image/png": "[encoded data removed]",
      "text/plain": [
       "<Figure size 432x288 with 2 Axes>"
      ]
     },
     "metadata": {
      "needs_background": "light"
     },
     "output_type": "display_data"
    }
   ],
   "source": [
    "kfolds = KFold(n_splits=10, random_state=7,shuffle=True)\n",
    "score = cross_val_score(rf, X, y, cv=kfolds)\n",
    "print('Kfolds_Random Forest : ',score.mean())\n",
    "confusion = confusion_matrix(y_test, Y_pred)\n",
    "sns.heatmap(confusion,annot=True)\n",
    "print('for Random Forest, Confusion matrix\\n',confusion)\n",
    "classify=classification_report(y_test, Y_pred)\n",
    "print('for Random Forest, Classification Report\\n',classify)\n",
    "print(\"Heatmap\")"
   ]
  },
  {
   "cell_type": "markdown",
   "id": "ea0180a7",
   "metadata": {},
   "source": [
    "*Implementing Gaussian Naive Bayes Classifier*"
   ]
  },
  {
   "cell_type": "markdown",
   "id": "a2ee76a4",
   "metadata": {},
   "source": [
    "Hyperparameter Tuning (var_smoothing) in Naive Bayes Classifier"
   ]
  },
  {
   "cell_type": "code",
   "execution_count": 24,
   "id": "3664335f",
   "metadata": {},
   "outputs": [
    {
     "name": "stdout",
     "output_type": "stream",
     "text": [
      "Tuned model Accuracy:  0.95\n",
      "{'var_smoothing': 1e-09}\n"
     ]
    }
   ],
   "source": [
    "var_smoothing=[1e-9,1e-8,1e-7]\n",
    "par_grid = {\"var_smoothing\": var_smoothing}\n",
    "nb=GaussianNB()\n",
    "grid = GridSearchCV(estimator=nb,param_grid=par_grid,cv = 5,scoring='accuracy',refit=True)     \n",
    "\n",
    "t_model = make_pipeline(preprocessing.StandardScaler(), grid)    \n",
    "t_model.fit(X_train, y_train)      \n",
    "\n",
    "print(\"Tuned model Accuracy: \", grid.best_score_)\n",
    "print(grid.best_params_)"
   ]
  },
  {
   "cell_type": "code",
   "execution_count": 25,
   "id": "5188e678",
   "metadata": {},
   "outputs": [],
   "source": [
    "nb = GaussianNB(var_smoothing=1e-9)\n",
    "nb.fit(X_train, y_train)\n",
    "Y_pred = nb.predict(X_test) \n",
    "nb_acc=round(accuracy_score(y_test,Y_pred)* 100, 2)\n",
    "gaussian_acc_score = round(nb.score(X_train, y_train) * 100, 2)"
   ]
  },
  {
   "cell_type": "markdown",
   "id": "9af6e6a7",
   "metadata": {},
   "source": [
    "Comparing the performances of Gaussian Naive Bayes Classifier using k-fold cross validation\n",
    "and other tuning techniques."
   ]
  },
  {
   "cell_type": "code",
   "execution_count": 26,
   "id": "24d110a9",
   "metadata": {
    "scrolled": false
   },
   "outputs": [
    {
     "name": "stdout",
     "output_type": "stream",
     "text": [
      "Kfolds_Naive Bayes :  0.9533333333333334\n",
      "for Naive Bayes, Confusion matrix\n",
      " [[11  0  0]\n",
      " [ 0 13  0]\n",
      " [ 0  1  5]]\n",
      "for Naive Bayes, Classification Report\n",
      "               precision    recall  f1-score   support\n",
      "\n",
      "           0       1.00      1.00      1.00        11\n",
      "           1       0.93      1.00      0.96        13\n",
      "           2       1.00      0.83      0.91         6\n",
      "\n",
      "    accuracy                           0.97        30\n",
      "   macro avg       0.98      0.94      0.96        30\n",
      "weighted avg       0.97      0.97      0.97        30\n",
      "\n",
      "Heatmap:\n"
     ]
    },
    {
     "data": {
      "image/png": "[encoded data removed]",
      "text/plain": [
       "<Figure size 432x288 with 2 Axes>"
      ]
     },
     "metadata": {
      "needs_background": "light"
     },
     "output_type": "display_data"
    }
   ],
   "source": [
    "kfolds = KFold(n_splits=10, random_state=7,shuffle=True)\n",
    "score = cross_val_score(nb, X, y, cv=kfolds)\n",
    "print('Kfolds_Naive Bayes : ',score.mean())\n",
    "confusion = confusion_matrix(y_test, Y_pred)\n",
    "print('for Naive Bayes, Confusion matrix\\n',confusion)\n",
    "sns.heatmap(confusion,annot=True)\n",
    "classify=classification_report(y_test, Y_pred)\n",
    "print('for Naive Bayes, Classification Report\\n',classify)\n",
    "print(\"Heatmap:\")"
   ]
  },
  {
   "cell_type": "markdown",
   "id": "9504b774",
   "metadata": {},
   "source": [
    "*Implementing K-Nearest Neighbor Classifier*"
   ]
  },
  {
   "cell_type": "markdown",
   "id": "54eb6855",
   "metadata": {},
   "source": [
    "Hyperparamter Tunning (value of nearest neighbors in KNN)"
   ]
  },
  {
   "cell_type": "markdown",
   "id": "2d6a0131",
   "metadata": {},
   "source": [
    "Checking the accuracy for various values of n for K-Nearest Neighbors"
   ]
  },
  {
   "cell_type": "code",
   "execution_count": 27,
   "id": "3b3aec2c",
   "metadata": {
    "scrolled": true
   },
   "outputs": [
    {
     "data": {
      "image/png": "[encoded data removed]",
      "text/plain": [
       "<Figure size 1296x432 with 1 Axes>"
      ]
     },
     "metadata": {
      "needs_background": "light"
     },
     "output_type": "display_data"
    }
   ],
   "source": [
    "plt.subplots(figsize=(18,6))\n",
    "n_index=list(range(1,50))\n",
    "n = pd.Series([],dtype=pd.StringDtype()) \n",
    "x=range(1,50)\n",
    "for i in list(range(1,50)):\n",
    "    knn_model=KNeighborsClassifier(n_neighbors=i) \n",
    "    knn_model.fit(X_train, y_train) \n",
    "    pred=knn_model.predict(X_test)\n",
    "    n=n.append(pd.Series(accuracy_score(y_test,pred)))\n",
    "plt.plot(n_index, n,marker=\"*\")\n",
    "plt.xticks(x)\n",
    "plt.show()"
   ]
  },
  {
   "cell_type": "markdown",
   "id": "e7f757ac",
   "metadata": {},
   "source": [
    "Above is the graph showing the accuracy for the KNN models using different values of n(n-nearest neighbors). We see n=12(not too big and not too small) is good."
   ]
  },
  {
   "cell_type": "code",
   "execution_count": 28,
   "id": "2aa52f1f",
   "metadata": {},
   "outputs": [],
   "source": [
    "kNeighbors = KNeighborsClassifier(n_neighbors = 12)\n",
    "kNeighbors.fit(X_train, y_train)\n",
    "Y_pred = kNeighbors.predict(X_test) \n",
    "knn_acc=round(accuracy_score(y_test,Y_pred)* 100, 2)\n",
    "knn_acc_score = round(kNeighbors.score(X_train, y_train) * 100, 2)"
   ]
  },
  {
   "cell_type": "markdown",
   "id": "8a7b30d5",
   "metadata": {},
   "source": [
    "Comparing the performances of KNN Classifier using k-fold cross validation\n",
    "and other tuning techniques."
   ]
  },
  {
   "cell_type": "code",
   "execution_count": 29,
   "id": "ef86febc",
   "metadata": {
    "scrolled": false
   },
   "outputs": [
    {
     "name": "stdout",
     "output_type": "stream",
     "text": [
      "Kfolds_KNN :  0.96\n",
      "for KNN, Confusion Matrix:\n",
      " [[11  0  0]\n",
      " [ 0 13  0]\n",
      " [ 0  0  6]]\n",
      "for KNN, Classification Report\n",
      "               precision    recall  f1-score   support\n",
      "\n",
      "           0       1.00      1.00      1.00        11\n",
      "           1       1.00      1.00      1.00        13\n",
      "           2       1.00      1.00      1.00         6\n",
      "\n",
      "    accuracy                           1.00        30\n",
      "   macro avg       1.00      1.00      1.00        30\n",
      "weighted avg       1.00      1.00      1.00        30\n",
      "\n",
      "Heatmap:\n"
     ]
    },
    {
     "data": {
      "image/png": "[encoded data removed]",
      "text/plain": [
       "<Figure size 432x288 with 2 Axes>"
      ]
     },
     "metadata": {
      "needs_background": "light"
     },
     "output_type": "display_data"
    }
   ],
   "source": [
    "kfolds = KFold(n_splits=10, random_state=7,shuffle=True)\n",
    "score = cross_val_score(kNeighbors, X, y, cv=kfolds)\n",
    "print('Kfolds_KNN : ',score.mean())\n",
    "confusion = confusion_matrix(y_test, Y_pred)\n",
    "sns.heatmap(confusion,annot=True)\n",
    "print('for KNN, Confusion Matrix:\\n',confusion)\n",
    "classify=classification_report(y_test, Y_pred)\n",
    "print('for KNN, Classification Report\\n',classify)\n",
    "print(\"Heatmap:\")"
   ]
  },
  {
   "cell_type": "markdown",
   "id": "1a303337",
   "metadata": {},
   "source": [
    "*Which is the best Model?*"
   ]
  },
  {
   "cell_type": "code",
   "execution_count": 30,
   "id": "2ddcba37",
   "metadata": {
    "scrolled": true
   },
   "outputs": [
    {
     "data": {
      "text/html": [
       "<div>\n",
       "<style scoped>\n",
       "    .dataframe tbody tr th:only-of-type {\n",
       "        vertical-align: middle;\n",
       "    }\n",
       "\n",
       "    .dataframe tbody tr th {\n",
       "        vertical-align: top;\n",
       "    }\n",
       "\n",
       "    .dataframe thead th {\n",
       "        text-align: right;\n",
       "    }\n",
       "</style>\n",
       "<table border=\"1\" class=\"dataframe\">\n",
       "  <thead>\n",
       "    <tr style=\"text-align: right;\">\n",
       "      <th></th>\n",
       "      <th>Model</th>\n",
       "      <th>Score</th>\n",
       "      <th>Acc_score</th>\n",
       "    </tr>\n",
       "  </thead>\n",
       "  <tbody>\n",
       "    <tr>\n",
       "      <th>0</th>\n",
       "      <td>KNN</td>\n",
       "      <td>97.50</td>\n",
       "      <td>100.00</td>\n",
       "    </tr>\n",
       "    <tr>\n",
       "      <th>1</th>\n",
       "      <td>Decision Tree</td>\n",
       "      <td>96.67</td>\n",
       "      <td>100.00</td>\n",
       "    </tr>\n",
       "    <tr>\n",
       "      <th>2</th>\n",
       "      <td>Random Forest</td>\n",
       "      <td>99.17</td>\n",
       "      <td>96.67</td>\n",
       "    </tr>\n",
       "    <tr>\n",
       "      <th>3</th>\n",
       "      <td>Naive Bayes</td>\n",
       "      <td>95.00</td>\n",
       "      <td>96.67</td>\n",
       "    </tr>\n",
       "  </tbody>\n",
       "</table>\n",
       "</div>"
      ],
      "text/plain": [
       "           Model  Score  Acc_score\n",
       "0            KNN  97.50     100.00\n",
       "1  Decision Tree  96.67     100.00\n",
       "2  Random Forest  99.17      96.67\n",
       "3    Naive Bayes  95.00      96.67"
      ]
     },
     "execution_count": 30,
     "metadata": {},
     "output_type": "execute_result"
    }
   ],
   "source": [
    "best = pd.DataFrame({\n",
    "    'Model': [ 'KNN','Random Forest','Naive Bayes','Decision Tree'],\n",
    "    'Score': [ knn_acc_score,random_forest_acc_score,gaussian_acc_score,dt_acc_score],\n",
    "    \"Acc_score\":[knn_acc,rf_acc,nb_acc,dt_acc]\n",
    "                    })\n",
    "\n",
    "best_df = best.sort_values(by='Acc_score', ascending=False)\n",
    "\n",
    "best_df = best_df.reset_index(drop=True)\n",
    "\n",
    "best_df.head(4)"
   ]
  },
  {
   "cell_type": "code",
   "execution_count": 31,
   "id": "1829d9a4",
   "metadata": {
    "scrolled": true
   },
   "outputs": [
    {
     "data": {
      "image/png": "[encoded data removed]",
      "text/plain": [
       "<Figure size 864x288 with 1 Axes>"
      ]
     },
     "metadata": {
      "needs_background": "light"
     },
     "output_type": "display_data"
    }
   ],
   "source": [
    "plt.subplots(figsize=(12,4))\n",
    "ax=sns.barplot(x='Model',y=\"Acc_score\",data=best_df)\n",
    "labels = (best_df[\"Acc_score\"])\n",
    "for i,j in enumerate(labels):\n",
    "    ax.text(i,j+1,str(j))"
   ]
  },
  {
   "cell_type": "code",
   "execution_count": null,
   "id": "2b22a2d2",
   "metadata": {},
   "outputs": [],
   "source": [
    "#Question-2-(a)\n",
    "\n",
    "#Implementing Apriori Algorithm\n",
    "from collections import defaultdict\n",
    "from csv import reader\n",
    "from itertools import chain,combinations\n",
    "import pandas as pd\n",
    "import requests\n",
    "\n",
    "#Function to generate the candidate set\n",
    "def generate_candidate(records):\n",
    "    cand=set()\n",
    "    for record in records:\n",
    "        for value in record:\n",
    "                cand.add(frozenset([value]))\n",
    "    return cand\n",
    "\n",
    "#Function to get the frequent set of size (K+1) from the candidate set of size K\n",
    "def get_frequent(Set,final_set,min_sup,records):\n",
    "    f_set=set()\n",
    "    temp=defaultdict(int)\n",
    "    for value in Set:\n",
    "        for Set in records:\n",
    "            if(value.issubset(Set)):\n",
    "                final_set[value]=final_set[value]+1\n",
    "                temp[value]=temp[value]+1\n",
    "    for value, count in temp.items():\n",
    "        sup=float(count/len(records))\n",
    "        if(sup>=min_sup):\n",
    "            f_set.add(value)\n",
    "    return f_set\n",
    "\n",
    "#Function to generate the candidate set of size K+1 from the set of size K\n",
    "def generate_set(Set,k):\n",
    "    return set([i.union(j) for i in Set for j in Set if len(i.union(j))==k])\n",
    "\n",
    "#Function implementing the pruning process of a set\n",
    "def prune(temp,Set,p):\n",
    "    temp_set=Set.copy()\n",
    "    for element in Set:\n",
    "        subclasses=combinations(element,p)\n",
    "        for subclass in subclasses:\n",
    "            if(frozenset(subclass) not in temp):\n",
    "                temp_set.remove(element)\n",
    "                break\n",
    "    return temp_set\n",
    "\n",
    "#Function to derive the association rules based on the input data and the apriori algorithm\n",
    "def association_rule(final_set,itemset,min_conf):\n",
    "    rules=[]\n",
    "    for count, Set in itemset.items():\n",
    "        for item in Set:\n",
    "            subclass=chain.from_iterable(combinations(item,x) for x in range(1,len(item)))\n",
    "            for value in subclass:\n",
    "                conf=float(final_set[item]/final_set[frozenset(value)])\n",
    "                if(conf>= min_conf):\n",
    "                    rules.append([set(value),set(item.difference(value)),conf])\n",
    "    return rules\n",
    "\n",
    "#Function defining the working of apriori algorithm\n",
    "def Apriori(records,min_support,min_confidence):\n",
    "    itemset=dict()\n",
    "    final_set=defaultdict(int)\n",
    "    C1set=generate_candidate(records)\n",
    "    L1set=get_frequent(C1set,final_set,min_support,records)\n",
    "    x=2\n",
    "    temp_set=L1set\n",
    "    while(temp_set):\n",
    "        itemset[x-1]=temp_set\n",
    "        cand_set=generate_set(temp_set,x)\n",
    "        cand_set=prune(temp_set,cand_set,x-1)\n",
    "        temp_set=get_frequent(cand_set,final_set,min_support,records)\n",
    "        x+=1\n",
    "    rules=association_rule(final_set,itemset,min_confidence)\n",
    "    rules.sort(key=lambda x:x[2])\n",
    "#The apriori algorithm retunrns two variables that store the association rules and desired itemset\n",
    "    return itemset, rules\n",
    "\n",
    "\n",
    "#ItemSetList to test the working of the implementation of the Apriori Algorithm\n",
    "itemSetList = [['eggs', 'bacon', 'soup'],\n",
    "                ['eggs', 'bacon', 'apple'],\n",
    "                ['soup', 'bacon', 'banana']]\n",
    "#The min. confidence and min. support are input as values in the function which are 0.5 each\n",
    "freq_set,rules = Apriori(itemSetList, 0.5, 0.5)\n",
    "rule=list(rules)\n",
    "#print(\"The output (desired itemset) of the Apriori algorithm based on the itemset list is\",freq_set)\n",
    "#print(\"The output (association rules) of the Apriori algorithm based on the itemset List is\",rule)\n",
    "\n",
    "\n",
    "#Implementing FP growth algorithm\n",
    "\n",
    "#Defining the class Node in order to implement the FP tree\n",
    "class Node:\n",
    "    def __init__(self,name,frequency,parent):\n",
    "        self.itemName=name\n",
    "        self.count=frequency\n",
    "        self.parent=parent\n",
    "        self.children={}\n",
    "        self.next=None\n",
    "        \n",
    "    def display(self, index=1):\n",
    "        print(' '*index,self.itemName,' ',self.count)\n",
    "        for child in list(self.children.values()):\n",
    "            child.display(index+1)\n",
    "            \n",
    "    def increment(self,frequency):\n",
    "        self.count=self.count+frequency\n",
    "        \n",
    "#Function to generate the header table based on the input provided\n",
    "def generate_table(records,min_sup,frequency):\n",
    "    h_table = defaultdict(int)\n",
    "    for count,Set in enumerate(records):\n",
    "        for item in Set:\n",
    "            h_table[item]+=frequency[count]\n",
    "    h_table=dict((item, support) for item, support in h_table.items() if support>=min_sup)\n",
    "    if(len(h_table)==0):\n",
    "        return None\n",
    "    for item in h_table:\n",
    "        h_table[item]= [h_table[item],None]\n",
    "    return h_table\n",
    "\n",
    "#Function to update the header table in case of new node is inserted in the FP tree\n",
    "def update_table(element,new_Node,header_table):\n",
    "    if(header_table[element][1]==None):\n",
    "        header_table[element][1]=new_Node\n",
    "    else:\n",
    "        temp=header_table[element][1]\n",
    "        while temp.next!=None:\n",
    "            temp=temp.next\n",
    "        temp.next=new_Node\n",
    "\n",
    "#Function to create the FP tree in accordance with the data provided\n",
    "def Tree(header_table,records,min_sup,frequency):\n",
    "    fptree=Node(\"Null\",1,None)\n",
    "    for count,Set in enumerate(records):\n",
    "        Set=[element for element in Set if element in header_table]\n",
    "        Set.sort(key=lambda element: header_table[element][0], reverse=True)\n",
    "        temp=fptree\n",
    "        for element in Set:\n",
    "            sub_tree=temp\n",
    "            if element in sub_tree.children:\n",
    "                sub_tree.children[element].increment(frequency[count])\n",
    "            else:\n",
    "                new_Node=Node(element,frequency[count],sub_tree)\n",
    "                sub_tree.children[element]=new_Node\n",
    "                update_table(element,new_Node,header_table)\n",
    "            temp=sub_tree.children[element]\n",
    "                \n",
    "    return fptree\n",
    "\n",
    "#Function used in Prefix Path in order to find the path from the current node to the parent node\n",
    "def ascend(temp_node,path):\n",
    "    if temp_node.parent!=None:\n",
    "        path.append(temp_node.itemName)\n",
    "        ascend(temp_node.parent, path)\n",
    "        \n",
    "#Prefix Path is used to find the conditional patterns and frequency\n",
    "def prefix_path(element,header_table):\n",
    "    temp_node=header_table[element][1]\n",
    "    freq=[]\n",
    "    patterns=[]\n",
    "    while temp_node!=None:\n",
    "        path=[]\n",
    "        ascend(temp_node, path)\n",
    "        if len(path)>1:\n",
    "            freq.append(temp_node.count)\n",
    "            patterns.append(path[1:])\n",
    "        temp_node=temp_node.next\n",
    "    return patterns, freq\n",
    "\n",
    "#Function that implements the Mining algorithm as specified in the FP growth algorithm\n",
    "def mine(headertable,mined_set,min_sup,frequent_set):\n",
    "    element_list=[item[0] for item in sorted(list(headertable.items()), key=lambda p:p[1][0])]\n",
    "    for element in element_list:\n",
    "        temp=mined_set.copy()\n",
    "        temp.add(element)\n",
    "        frequent_set.append(temp)\n",
    "        pattern_base, frequency=prefix_path(element,headertable)\n",
    "        head_table=generate_table(pattern_base,min_sup,frequency)\n",
    "        if(head_table!=None):\n",
    "            tree=Tree(head_table,pattern_base,min_sup,frequency)\n",
    "            mine(head_table,temp,min_sup,frequent_set)\n",
    "        else:\n",
    "            tree=None\n",
    "            \n",
    "#Function to derive the association rules for the input data\n",
    "def association_rule(frequent_set,records,min_conf):\n",
    "    rules=[]\n",
    "    for element in frequent_set:\n",
    "        Set=chain.from_iterable(combinations(element,x) for x in range(1, len(element)))\n",
    "        sup=0\n",
    "        for record in records:\n",
    "            if(set(element).issubset(record)):\n",
    "                sup+=1\n",
    "        for space in Set:\n",
    "            temp=0\n",
    "            for record in records:\n",
    "                if(set(space).issubset(record)):\n",
    "                    temp+=1\n",
    "            confidence=float(sup/temp)\n",
    "            if(confidence>min_conf):\n",
    "                rules.append([set(space), set(element.difference(space)),confidence])\n",
    "    return rules\n",
    "\n",
    "#Function that defines the working of the FP growth algorithm\n",
    "def fp_growth(records,min_sup_ratio,min_conf):\n",
    "    frequency=[1 for i in range(len(records))]\n",
    "    min_sup=len(records)*min_sup_ratio\n",
    "    header_table=generate_table(records,min_sup,frequency)\n",
    "    fp_tree=Tree(header_table,records,min_sup,frequency)\n",
    "    if(fp_tree==None):\n",
    "        print(\"There is no frequent set present\")\n",
    "    else:\n",
    "        frequent_set=[]\n",
    "        mine(header_table,set(),min_sup,frequent_set)\n",
    "        rules=association_rule(frequent_set,records,min_conf)\n",
    "        return frequent_set, rules\n",
    "    \n",
    "    \n",
    "#ItemSetList to test the working of the implementation of the FP growth Algorithm\n",
    "itemSetList = [['eggs', 'bacon', 'soup'],\n",
    "                ['eggs', 'bacon', 'apple'],\n",
    "                ['soup', 'bacon', 'banana']]\n",
    "#The min. confidence and min. support are input as values in the function which are 0.5 each\n",
    "freqItemSet, fp_rules= fp_growth(itemSetList, 0.5, 0.5)\n",
    "fp_rule=list(fp_rules)\n",
    "#print(\"The output (desired itemset) of the FP growth algorithm based on the itemset list is\",freqItemSet)\n",
    "#print(\"The output (association rules) of the FP growth algorithm based on the itemset List is\",fp_rule)\n",
    "\n",
    "\n",
    "\n",
    "#Question 2-(b)\n",
    "\n",
    "#Modifications in the Apriori Algorithm\n",
    "\n",
    "#The complexity while finding the frequent data set and the candidate set for the input data can be reduced futher based on the\n",
    "#argument that if a certain element of the set used for finding set of (K+1) elements doesn't occur k times in the set then it\n",
    "#cannot occur in the frequent set and so the entry is removed from the candidate set\n",
    "\n",
    "#The function get_frequent in the Apriori algorithm is modified by adding the condition as follows\n",
    "#    for value in Set:\n",
    "#        for Set in records:\n",
    "#            if(temp[value]<k):\n",
    "#                temp.pop(value)\n",
    "\n",
    "#Implementing Modified Apriori Algorithm\n",
    "\n",
    "#Function to generate the candidate set\n",
    "def mod_generate_candidate(records):\n",
    "    cand=set()\n",
    "    for record in records:\n",
    "        for value in record:\n",
    "                cand.add(frozenset([value]))\n",
    "    return cand\n",
    "\n",
    "#Function to get the frequent set of size (K+1) from the candidate set of size K\n",
    "def mod_get_frequent(Set,final_set,min_sup,records):\n",
    "    f_set=set()\n",
    "    temp=defaultdict(int)\n",
    "    for value in Set:\n",
    "        for Set in records:\n",
    "            if(value.issubset(Set)):\n",
    "                final_set[value]=final_set[value]+1\n",
    "                temp[value]=temp[value]+1\n",
    "    for value, count in temp.items():\n",
    "        sup=float(count/len(records))\n",
    "        if(sup>=min_sup):\n",
    "            f_set.add(value)\n",
    "    return f_set\n",
    "\n",
    "#Function to generate the candidate set of size K+1 from the set of size K\n",
    "def mod_generate_set(Set,k):\n",
    "    return set([i.union(j) for i in Set for j in Set if len(i.union(j))==k])\n",
    "\n",
    "#Function implementing the pruning process of a set\n",
    "def mod_prune(temp,Set,p):\n",
    "    temp_set=Set.copy()\n",
    "    for element in Set:\n",
    "        subclasses=combinations(element,p)\n",
    "        for subclass in subclasses:\n",
    "            if(frozenset(subclass) not in temp):\n",
    "                temp_set.remove(element)\n",
    "                break\n",
    "    return temp_set\n",
    "\n",
    "#Function to derive the association rules based on the input data and the apriori algorithm\n",
    "def mod_association_rule(final_set,itemset,min_conf):\n",
    "    rules=[]\n",
    "    for count, Set in itemset.items():\n",
    "        for item in Set:\n",
    "            subclass=chain.from_iterable(combinations(item,x) for x in range(1,len(item)))\n",
    "            for value in subclass:\n",
    "                conf=float(final_set[item]/final_set[frozenset(value)])\n",
    "                if(conf>= min_conf):\n",
    "                    rules.append([set(value),set(item.difference(value)),conf])\n",
    "    return rules\n",
    "\n",
    "#Function defining the working of apriori algorithm\n",
    "def mod_Apriori(records,min_support,min_confidence):\n",
    "    itemset=dict()\n",
    "    final_set=defaultdict(int)\n",
    "    C1set=mod_generate_candidate(records)\n",
    "    L1set=mod_get_frequent(C1set,final_set,min_support,records)\n",
    "    x=2\n",
    "    temp_set=L1set\n",
    "    while(temp_set):\n",
    "        itemset[x-1]=temp_set\n",
    "        cand_set=mod_generate_set(temp_set,x)\n",
    "        cand_set=mod_prune(temp_set,cand_set,x-1)\n",
    "        temp_set=mod_get_frequent(cand_set,final_set,min_support,records)\n",
    "        x+=1\n",
    "    rules=mod_association_rule(final_set,itemset,min_confidence)\n",
    "    rules.sort(key=lambda x:x[2])\n",
    "    return itemset, rules\n",
    "\n",
    "\n",
    "\n",
    "#Modifications in the FP growth Algorithm\n",
    "\n",
    "#In the implementation of the FP growth algorithm, instead of creating a tree, we can use the trie data structure which as a \n",
    "# result gives better performance at mining and also in finding the association rules evidently.\n",
    "\n",
    "#The trie data structure can be defined as follows as its functions can be called in the implementation\n",
    "\n",
    "\n",
    "#Implementing Modified FP growth algorithm\n",
    "\n",
    "#Implementing the Trie Data structure\n",
    "#Defining TrieNode\n",
    "class TrieNode:\n",
    "    \n",
    "    def __init__(self,name,frequency,parent):\n",
    "        self.children = {}\n",
    "        self.count=frequency\n",
    "        self.parent=parent\n",
    "        self.itemName=name\n",
    "        self.next=None\n",
    " \n",
    "        # isEndOfWord is True if node represent the end of the word\n",
    "        self.isEndOfWord = False\n",
    "        \n",
    "    def increment(self,frequency):\n",
    "        self.count=self.count+frequency\n",
    " \n",
    "class Trie:\n",
    "    def __init__(self):\n",
    "        self.root = self.getNode()\n",
    " \n",
    "    def getNode(self):\n",
    "        return TrieNode()\n",
    " \n",
    "    def _charToIndex(self,ch):   \n",
    "        return ord(ch)-ord('a')\n",
    " \n",
    "    def insert(self,key):\n",
    "        temp = self.root\n",
    "        length = len(key)\n",
    "        for indices in range(length):\n",
    "            index = self._charToIndex(key[indices])\n",
    "            if not temp.children[index]:\n",
    "                temp.children[index] = self.getNode()\n",
    "            temp = temp.children[index]\n",
    "        temp.isEndOfWord = True\n",
    " \n",
    "    def search(self, key):\n",
    "        temp = self.root\n",
    "        length = len(key)\n",
    "        for indices in range(length):\n",
    "            index = self._charToIndex(key[indices])\n",
    "            if not temp.children[index]:\n",
    "                return False\n",
    "            temp = temp.children[index]\n",
    " \n",
    "        return temp.isEndOfWord\n",
    "\n",
    "#Function to generate the header table based on the input provided\n",
    "def mod_generate_table(records,min_sup,frequency):\n",
    "    h_table = defaultdict(int)\n",
    "    for count,Set in enumerate(records):\n",
    "        for item in Set:\n",
    "            h_table[item]+=frequency[count]\n",
    "    h_table=dict((item, support) for item, support in h_table.items() if support>=min_sup)\n",
    "    if(len(h_table)==0):\n",
    "        return None\n",
    "    for item in h_table:\n",
    "        h_table[item]= [h_table[item],None]\n",
    "    return h_table\n",
    "\n",
    "#Function to update the header table in case of new node is inserted in the FP tree\n",
    "def mod_update_table(element,new_Node,header_table):\n",
    "    if(header_table[element][1]==None):\n",
    "        header_table[element][1]=new_Node\n",
    "    else:\n",
    "        temp=header_table[element][1]\n",
    "        while temp.next!=None:\n",
    "            temp=temp.next\n",
    "        temp.next=new_Node\n",
    "\n",
    "#Function to create the FP tree in accordance with the data provided\n",
    "def mod_Tree(header_table,records,min_sup,frequency):\n",
    "    fptree=TrieNode(\"Null\",1,None)\n",
    "    for count,Set in enumerate(records):\n",
    "        Set=[element for element in Set if element in header_table]\n",
    "        Set.sort(key=lambda element: header_table[element][0], reverse=True)\n",
    "        temp=fptree\n",
    "        for element in Set:\n",
    "            sub_tree=temp\n",
    "            if element in sub_tree.children:\n",
    "                sub_tree.children[element].increment(frequency[count])\n",
    "            else:\n",
    "                new_Node=TrieNode(element,frequency[count],sub_tree)\n",
    "                sub_tree.children[element]=new_Node\n",
    "                mod_update_table(element,new_Node,header_table)\n",
    "            temp=sub_tree.children[element]\n",
    "                \n",
    "    return fptree\n",
    "\n",
    "#Function used in Prefix Path in order to find the path from the current node to the parent node\n",
    "def mod_ascend(temp_node,path):\n",
    "    if temp_node.parent!=None:\n",
    "        path.append(temp_node.itemName)\n",
    "        mod_ascend(temp_node.parent, path)\n",
    "     \n",
    "#Prefix Path is used to find the conditional patterns and frequency\n",
    "def mod_prefix_path(element,header_table):\n",
    "    temp_node=header_table[element][1]\n",
    "    freq=[]\n",
    "    patterns=[]\n",
    "    while temp_node!=None:\n",
    "        path=[]\n",
    "        mod_ascend(temp_node, path)\n",
    "        if len(path)>1:\n",
    "            freq.append(temp_node.count)\n",
    "            patterns.append(path[1:])\n",
    "        temp_node=temp_node.next\n",
    "    return patterns, freq\n",
    "\n",
    "#Function that implements the Mining algorithm as specified in the FP growth algorithm\n",
    "def mod_mine(headertable,mined_set,min_sup,frequent_set):\n",
    "    element_list=[item[0] for item in sorted(list(headertable.items()), key=lambda p:p[1][0])]\n",
    "    for element in element_list:\n",
    "        temp=mined_set.copy()\n",
    "        temp.add(element)\n",
    "        frequent_set.append(temp)\n",
    "        pattern_base, frequency=mod_prefix_path(element,headertable)\n",
    "        head_table=mod_generate_table(pattern_base,min_sup,frequency)\n",
    "        if(head_table!=None):\n",
    "            tree=mod_Tree(head_table,pattern_base,min_sup,frequency)\n",
    "            mod_mine(head_table,temp,min_sup,frequent_set)\n",
    "        else:\n",
    "            tree=None\n",
    "         \n",
    "#Function to derive the association rules for the input data\n",
    "def mod_association_rule(frequent_set,records,min_conf):\n",
    "    rules=[]\n",
    "    for element in frequent_set:\n",
    "        Set=chain.from_iterable(combinations(element,x) for x in range(1, len(element)))\n",
    "        sup=0\n",
    "        for record in records:\n",
    "            if(set(element).issubset(record)):\n",
    "                sup+=1\n",
    "        for space in Set:\n",
    "            temp=0\n",
    "            for record in records:\n",
    "                if(set(space).issubset(record)):\n",
    "                    temp+=1\n",
    "            confidence=float(sup/temp)\n",
    "            if(confidence>min_conf):\n",
    "                rules.append([set(space), set(element.difference(space)),confidence])\n",
    "    return rules\n",
    "\n",
    "#Function that defines the working of the FP growth algorithm\n",
    "def mod_fp_growth(records,min_sup_ratio,min_conf):\n",
    "    frequency=[1 for i in range(len(records))]\n",
    "    min_sup=len(records)*min_sup_ratio\n",
    "    header_table=mod_generate_table(records,min_sup,frequency)\n",
    "    fp_tree=mod_Tree(header_table,records,min_sup,frequency)\n",
    "    if(fp_tree==None):\n",
    "        print(\"There is no frequent set present\")\n",
    "    else:\n",
    "        frequent_set=[]\n",
    "        mod_mine(header_table,set(),min_sup,frequent_set)\n",
    "        rules=mod_association_rule(frequent_set,records,min_conf)\n",
    "        return frequent_set, rules\n",
    "    \n",
    "    \n",
    "#Testing of Apriori and FP growth algorithms done on the basis of the data provided in the assignment is as follows\n",
    "response = requests.get('http://fimi.ua.ac.be/data/retail.dat')\n",
    "text_data = response.text\n",
    "store_data = []\n",
    "for line in text_data.split(\"\\n\"):\n",
    "    word = []\n",
    "    for number in line.split(\" \"):\n",
    "        if(number!=''):\n",
    "            word.append(int(number))\n",
    "    store_data.append(word)\n",
    "num_records = len(store_data)\n",
    "records = []\n",
    "for i in range(0,num_records):\n",
    "    records.append([str(store_data[i][j]) for j in range(0,len(store_data[i]))])\n",
    "freq_set1,rules1 = Apriori(records, 0.5, 0.5)\n",
    "freq_set2,rules2 = fp_growth(records, 0.5, 0.5)\n",
    "rule2=list(rules2)\n",
    "rule1=list(rules1)\n",
    "print(\"The output (desired itemset) of the Apriori algorithm based on the Dataset provided is\",freq_set1)\n",
    "print(\"The output (association rules) of the Apriori algorithm based on the Dataset provided is\",rule1)\n",
    "print(\"The output (desired itemset) of the FP growth algorithm based on the Dataset provided is\",freq_set2)\n",
    "print(\"The output (association rules) of the FP growth algorithm based on the Dataset provided is\",rule2)"
   ]
  },
  {
   "cell_type": "code",
   "execution_count": null,
   "id": "c0c51672",
   "metadata": {},
   "outputs": [],
   "source": []
  }
 ],
 "metadata": {
  "kernelspec": {
   "display_name": "Python 3 (ipykernel)",
   "language": "python",
   "name": "python3"
  },
  "language_info": {
   "codemirror_mode": {
    "name": "ipython",
    "version": 3
   },
   "file_extension": ".py",
   "mimetype": "text/x-python",
   "name": "python",
   "nbconvert_exporter": "python",
   "pygments_lexer": "ipython3",
   "version": "3.9.7"
  }
 },
 "nbformat": 4,
 "nbformat_minor": 5
}
